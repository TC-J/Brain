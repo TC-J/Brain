{
 "cells": [
  {
   "cell_type": "code",
   "execution_count": null,
   "metadata": {},
   "outputs": [
    {
     "ename": "TypeError",
     "evalue": "Can't instantiate abstract class WineData without an implementation for abstract methods '__install__', '__preprocess__', 'dataset'",
     "output_type": "error",
     "traceback": [
      "\u001b[0;31m---------------------------------------------------------------------------\u001b[0m",
      "\u001b[0;31mTypeError\u001b[0m                                 Traceback (most recent call last)",
      "Cell \u001b[0;32mIn[3], line 224\u001b[0m\n\u001b[1;32m    220\u001b[0m             zip_file\u001b[38;5;241m.\u001b[39mextractall(data_dir)\n\u001b[1;32m    222\u001b[0m         os\u001b[38;5;241m.\u001b[39mremove(zip_path)\n\u001b[0;32m--> 224\u001b[0m data \u001b[38;5;241m=\u001b[39m \u001b[43mWineData\u001b[49m\u001b[43m(\u001b[49m\u001b[43mIdentity\u001b[49m\u001b[43m(\u001b[49m\u001b[38;5;124;43m\"\u001b[39;49m\u001b[38;5;124;43mwine\u001b[39;49m\u001b[38;5;124;43m\"\u001b[39;49m\u001b[43m,\u001b[49m\u001b[43m \u001b[49m\u001b[38;5;124;43m\"\u001b[39;49m\u001b[38;5;124;43m0.1.0\u001b[39;49m\u001b[38;5;124;43m\"\u001b[39;49m\u001b[43m)\u001b[49m\u001b[43m,\u001b[49m\u001b[43m \u001b[49m\u001b[38;5;124;43m\"\u001b[39;49m\u001b[38;5;124;43mdata\u001b[39;49m\u001b[38;5;124;43m\"\u001b[39;49m\u001b[43m)\u001b[49m\n",
      "\u001b[0;31mTypeError\u001b[0m: Can't instantiate abstract class WineData without an implementation for abstract methods '__install__', '__preprocess__', 'dataset'"
     ]
    }
   ],
   "source": [
    "from brain import Brain, Supervisor, Data\n",
    "\n",
    "class WineData(Data):\n",
    "    def install(self):\n",
    "        pass\n",
    "\n",
    "    def training_data(self):\n",
    "        pass\n",
    "\n",
    "model = None\n",
    "\n",
    "brain = Brain(\n",
    "\n",
    ")\n",
    "\n",
    "supervisor = Supervisor(\n",
    "\n",
    ")"
   ]
  }
 ],
 "metadata": {
  "kernelspec": {
   "display_name": "brain-mUoVbfnf-py3.12",
   "language": "python",
   "name": "python3"
  },
  "language_info": {
   "codemirror_mode": {
    "name": "ipython",
    "version": 3
   },
   "file_extension": ".py",
   "mimetype": "text/x-python",
   "name": "python",
   "nbconvert_exporter": "python",
   "pygments_lexer": "ipython3",
   "version": "3.12.3"
  }
 },
 "nbformat": 4,
 "nbformat_minor": 2
}
